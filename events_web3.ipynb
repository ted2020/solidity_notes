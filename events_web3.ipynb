{
 "cells": [
  {
   "cell_type": "code",
   "execution_count": 1,
   "id": "02583739",
   "metadata": {},
   "outputs": [],
   "source": [
    "%config Completer.use_jedi = False"
   ]
  },
  {
   "cell_type": "code",
   "execution_count": 2,
   "id": "aef59926",
   "metadata": {},
   "outputs": [],
   "source": [
    "from web3 import Web3\n",
    "import json"
   ]
  },
  {
   "cell_type": "code",
   "execution_count": 3,
   "id": "183a60dd",
   "metadata": {},
   "outputs": [],
   "source": [
    "infura_url = \"https://mainnet.infura.io/..........................\""
   ]
  },
  {
   "cell_type": "code",
   "execution_count": 4,
   "id": "a586ebcf",
   "metadata": {},
   "outputs": [],
   "source": [
    "w3 = Web3(Web3.HTTPProvider(infura_url))"
   ]
  },
  {
   "cell_type": "code",
   "execution_count": 5,
   "id": "bc368c14",
   "metadata": {},
   "outputs": [
    {
     "data": {
      "text/plain": [
       "True"
      ]
     },
     "execution_count": 5,
     "metadata": {},
     "output_type": "execute_result"
    }
   ],
   "source": [
    "w3.isConnected()"
   ]
  },
  {
   "cell_type": "code",
   "execution_count": 6,
   "id": "6d3ee47f",
   "metadata": {},
   "outputs": [],
   "source": [
    "# https://etherscan.io/address/0x514910771af9ca656af840dff83e8264ecf986ca\n",
    "\n",
    "address = \"0x514910771AF9Ca656af840dff83E8264EcF986CA\""
   ]
  },
  {
   "cell_type": "code",
   "execution_count": 7,
   "id": "577a7063",
   "metadata": {},
   "outputs": [
    {
     "data": {
      "text/plain": [
       "0"
      ]
     },
     "execution_count": 7,
     "metadata": {},
     "output_type": "execute_result"
    }
   ],
   "source": [
    "w3.eth.get_balance(w3.toChecksumAddress(address))"
   ]
  },
  {
   "cell_type": "code",
   "execution_count": 8,
   "id": "18c66b55",
   "metadata": {},
   "outputs": [
    {
     "data": {
      "text/plain": [
       "True"
      ]
     },
     "execution_count": 8,
     "metadata": {},
     "output_type": "execute_result"
    }
   ],
   "source": [
    "w3.isAddress(address)"
   ]
  },
  {
   "cell_type": "code",
   "execution_count": 9,
   "id": "75025066",
   "metadata": {},
   "outputs": [],
   "source": [
    "response = json.loads(open(\"abi_chainlink.json\").read())"
   ]
  },
  {
   "cell_type": "code",
   "execution_count": 10,
   "id": "abbd6f2c",
   "metadata": {},
   "outputs": [],
   "source": [
    "abi = response[\"result\"]"
   ]
  },
  {
   "cell_type": "code",
   "execution_count": 11,
   "id": "3274bc7b",
   "metadata": {},
   "outputs": [],
   "source": [
    "contract = w3.eth.contract(address = address, abi = abi)"
   ]
  },
  {
   "cell_type": "code",
   "execution_count": 39,
   "id": "75bb8ac2",
   "metadata": {},
   "outputs": [],
   "source": [
    "latest_block = w3.eth.blockNumber"
   ]
  },
  {
   "cell_type": "code",
   "execution_count": 40,
   "id": "35977f1d",
   "metadata": {},
   "outputs": [
    {
     "data": {
      "text/plain": [
       "14753360"
      ]
     },
     "execution_count": 40,
     "metadata": {},
     "output_type": "execute_result"
    }
   ],
   "source": [
    "latest_block"
   ]
  },
  {
   "cell_type": "code",
   "execution_count": 13,
   "id": "08991351",
   "metadata": {},
   "outputs": [
    {
     "name": "stdout",
     "output_type": "stream",
     "text": [
      "<class 'web3._utils.datatypes.Transfer'>\n",
      "<class 'web3._utils.datatypes.Approval'>\n"
     ]
    }
   ],
   "source": [
    "for e in contract.events:\n",
    "    print(e)"
   ]
  },
  {
   "cell_type": "code",
   "execution_count": 14,
   "id": "979ae224",
   "metadata": {},
   "outputs": [
    {
     "data": {
      "text/plain": [
       "'Approval'"
      ]
     },
     "execution_count": 14,
     "metadata": {},
     "output_type": "execute_result"
    }
   ],
   "source": [
    "contract.events.Approval.event_name"
   ]
  },
  {
   "cell_type": "code",
   "execution_count": 15,
   "id": "1624c945",
   "metadata": {},
   "outputs": [
    {
     "data": {
      "text/plain": [
       "'0x514910771AF9Ca656af840dff83E8264EcF986CA'"
      ]
     },
     "execution_count": 15,
     "metadata": {},
     "output_type": "execute_result"
    }
   ],
   "source": [
    "contract.events.Approval.address"
   ]
  },
  {
   "cell_type": "code",
   "execution_count": 41,
   "id": "e4ab87d6",
   "metadata": {},
   "outputs": [],
   "source": [
    "filtered_events = contract.events.Approval.createFilter(fromBlock = latest_block - 100, toBlock = latest_block)"
   ]
  },
  {
   "cell_type": "code",
   "execution_count": 42,
   "id": "4738dc61",
   "metadata": {},
   "outputs": [
    {
     "data": {
      "text/plain": [
       "[AttributeDict({'args': AttributeDict({'owner': '0x220bdA5c8994804Ac96ebe4DF184d25e5c2196D4',\n",
       "   'spender': '0x2F9EC37d6CcFFf1caB21733BdaDEdE11c823cCB0',\n",
       "   'value': 2000000000000000000000}),\n",
       "  'event': 'Approval',\n",
       "  'logIndex': 271,\n",
       "  'transactionIndex': 81,\n",
       "  'transactionHash': HexBytes('0xf636fe6c6f3324e8960c43e612c144c65cdceca35e94beea497be63a659fa8f4'),\n",
       "  'address': '0x514910771AF9Ca656af840dff83E8264EcF986CA',\n",
       "  'blockHash': HexBytes('0xcbccc2f597f073dd96ef50c3098d6a93a230d2979950309df3df457159f18246'),\n",
       "  'blockNumber': 14753264}),\n",
       " AttributeDict({'args': AttributeDict({'owner': '0x3dB2D0b1c67e9A2607427B82bA9AfA32c18E263d',\n",
       "   'spender': '0x1111111254fb6c44bAC0beD2854e76F90643097d',\n",
       "   'value': 115792089237316195423570985008687907853269984665640564039457584007913129639935}),\n",
       "  'event': 'Approval',\n",
       "  'logIndex': 252,\n",
       "  'transactionIndex': 117,\n",
       "  'transactionHash': HexBytes('0xf571bb5b70bfb5c5423b218f520f68f203b9423ec11a426d319818ca36ac169d'),\n",
       "  'address': '0x514910771AF9Ca656af840dff83E8264EcF986CA',\n",
       "  'blockHash': HexBytes('0xd214b3b90973773e4b445c69ee7ab3b0b626a9d6b9f8e3ea307b007592dde172'),\n",
       "  'blockNumber': 14753293}),\n",
       " AttributeDict({'args': AttributeDict({'owner': '0xB23DC3F00856288Cd7B6Bde5D06159f01b75aA4C',\n",
       "   'spender': '0x2F9EC37d6CcFFf1caB21733BdaDEdE11c823cCB0',\n",
       "   'value': 3106407759598176801626}),\n",
       "  'event': 'Approval',\n",
       "  'logIndex': 88,\n",
       "  'transactionIndex': 13,\n",
       "  'transactionHash': HexBytes('0x0a847f5eca3f1c1f866c9b065a034c44b605d9ca7166aa2c8ef4f528978c5ffd'),\n",
       "  'address': '0x514910771AF9Ca656af840dff83E8264EcF986CA',\n",
       "  'blockHash': HexBytes('0x9758c7d8c334cbfa6681bac991532fee10576e31313c980b528050c72162f081'),\n",
       "  'blockNumber': 14753332}),\n",
       " AttributeDict({'args': AttributeDict({'owner': '0xB23DC3F00856288Cd7B6Bde5D06159f01b75aA4C',\n",
       "   'spender': '0x2F9EC37d6CcFFf1caB21733BdaDEdE11c823cCB0',\n",
       "   'value': 4707584256953309973326}),\n",
       "  'event': 'Approval',\n",
       "  'logIndex': 19,\n",
       "  'transactionIndex': 5,\n",
       "  'transactionHash': HexBytes('0x3f431da3f95b47e6028c30940df1ba4c3e362c0a4477505d2c5d03f068266211'),\n",
       "  'address': '0x514910771AF9Ca656af840dff83E8264EcF986CA',\n",
       "  'blockHash': HexBytes('0xaedb71b701f175fc8b269dbe4fd04992733665353e8eaca86eed801c14f97575'),\n",
       "  'blockNumber': 14753337})]"
      ]
     },
     "execution_count": 42,
     "metadata": {},
     "output_type": "execute_result"
    }
   ],
   "source": [
    "filtered_events.get_all_entries()"
   ]
  },
  {
   "cell_type": "code",
   "execution_count": 43,
   "id": "4d691ef4",
   "metadata": {},
   "outputs": [
    {
     "data": {
      "text/plain": [
       "(AttributeDict({'args': AttributeDict({'owner': '0x220bdA5c8994804Ac96ebe4DF184d25e5c2196D4',\n",
       "   'spender': '0x2F9EC37d6CcFFf1caB21733BdaDEdE11c823cCB0',\n",
       "   'value': 2000000000000000000000}),\n",
       "  'event': 'Approval',\n",
       "  'logIndex': 271,\n",
       "  'transactionIndex': 81,\n",
       "  'transactionHash': HexBytes('0xf636fe6c6f3324e8960c43e612c144c65cdceca35e94beea497be63a659fa8f4'),\n",
       "  'address': '0x514910771AF9Ca656af840dff83E8264EcF986CA',\n",
       "  'blockHash': HexBytes('0xcbccc2f597f073dd96ef50c3098d6a93a230d2979950309df3df457159f18246'),\n",
       "  'blockNumber': 14753264}),\n",
       " AttributeDict({'args': AttributeDict({'owner': '0x3dB2D0b1c67e9A2607427B82bA9AfA32c18E263d',\n",
       "   'spender': '0x1111111254fb6c44bAC0beD2854e76F90643097d',\n",
       "   'value': 115792089237316195423570985008687907853269984665640564039457584007913129639935}),\n",
       "  'event': 'Approval',\n",
       "  'logIndex': 252,\n",
       "  'transactionIndex': 117,\n",
       "  'transactionHash': HexBytes('0xf571bb5b70bfb5c5423b218f520f68f203b9423ec11a426d319818ca36ac169d'),\n",
       "  'address': '0x514910771AF9Ca656af840dff83E8264EcF986CA',\n",
       "  'blockHash': HexBytes('0xd214b3b90973773e4b445c69ee7ab3b0b626a9d6b9f8e3ea307b007592dde172'),\n",
       "  'blockNumber': 14753293}),\n",
       " AttributeDict({'args': AttributeDict({'owner': '0xB23DC3F00856288Cd7B6Bde5D06159f01b75aA4C',\n",
       "   'spender': '0x2F9EC37d6CcFFf1caB21733BdaDEdE11c823cCB0',\n",
       "   'value': 3106407759598176801626}),\n",
       "  'event': 'Approval',\n",
       "  'logIndex': 88,\n",
       "  'transactionIndex': 13,\n",
       "  'transactionHash': HexBytes('0x0a847f5eca3f1c1f866c9b065a034c44b605d9ca7166aa2c8ef4f528978c5ffd'),\n",
       "  'address': '0x514910771AF9Ca656af840dff83E8264EcF986CA',\n",
       "  'blockHash': HexBytes('0x9758c7d8c334cbfa6681bac991532fee10576e31313c980b528050c72162f081'),\n",
       "  'blockNumber': 14753332}),\n",
       " AttributeDict({'args': AttributeDict({'owner': '0xB23DC3F00856288Cd7B6Bde5D06159f01b75aA4C',\n",
       "   'spender': '0x2F9EC37d6CcFFf1caB21733BdaDEdE11c823cCB0',\n",
       "   'value': 4707584256953309973326}),\n",
       "  'event': 'Approval',\n",
       "  'logIndex': 19,\n",
       "  'transactionIndex': 5,\n",
       "  'transactionHash': HexBytes('0x3f431da3f95b47e6028c30940df1ba4c3e362c0a4477505d2c5d03f068266211'),\n",
       "  'address': '0x514910771AF9Ca656af840dff83E8264EcF986CA',\n",
       "  'blockHash': HexBytes('0xaedb71b701f175fc8b269dbe4fd04992733665353e8eaca86eed801c14f97575'),\n",
       "  'blockNumber': 14753337}))"
      ]
     },
     "execution_count": 43,
     "metadata": {},
     "output_type": "execute_result"
    }
   ],
   "source": [
    "contract.events.Approval.getLogs(fromBlock = latest_block - 100, toBlock = latest_block)"
   ]
  },
  {
   "cell_type": "code",
   "execution_count": 34,
   "id": "66926ecb",
   "metadata": {},
   "outputs": [],
   "source": [
    "# https://etherscan.io/tx/0xf571bb5b70bfb5c5423b218f520f68f203b9423ec11a426d319818ca36ac169d\n",
    "\n",
    "tx_hash = 0xf571bb5b70bfb5c5423b218f520f68f203b9423ec11a426d319818ca36ac169d   \n",
    "tx_receipt = w3.eth.get_transaction_receipt(tx_hash)\n",
    "log_to_process = tx_receipt['logs'][0]"
   ]
  },
  {
   "cell_type": "code",
   "execution_count": 33,
   "id": "4d3b413e",
   "metadata": {},
   "outputs": [
    {
     "data": {
      "text/plain": [
       "AttributeDict({'address': '0x514910771AF9Ca656af840dff83E8264EcF986CA',\n",
       " 'blockHash': HexBytes('0xd214b3b90973773e4b445c69ee7ab3b0b626a9d6b9f8e3ea307b007592dde172'),\n",
       " 'blockNumber': 14753293,\n",
       " 'data': '0xffffffffffffffffffffffffffffffffffffffffffffffffffffffffffffffff',\n",
       " 'logIndex': 252,\n",
       " 'removed': False,\n",
       " 'topics': [HexBytes('0x8c5be1e5ebec7d5bd14f71427d1e84f3dd0314c0f7b2291e5b200ac8c7c3b925'),\n",
       "  HexBytes('0x0000000000000000000000003db2d0b1c67e9a2607427b82ba9afa32c18e263d'),\n",
       "  HexBytes('0x0000000000000000000000001111111254fb6c44bac0bed2854e76f90643097d')],\n",
       " 'transactionHash': HexBytes('0xf571bb5b70bfb5c5423b218f520f68f203b9423ec11a426d319818ca36ac169d'),\n",
       " 'transactionIndex': 117})"
      ]
     },
     "execution_count": 33,
     "metadata": {},
     "output_type": "execute_result"
    }
   ],
   "source": [
    "tx_receipt[\"logs\"][0]"
   ]
  },
  {
   "cell_type": "code",
   "execution_count": 36,
   "id": "4f091320",
   "metadata": {
    "scrolled": true
   },
   "outputs": [
    {
     "data": {
      "text/plain": [
       "AttributeDict({'args': AttributeDict({'owner': '0x3dB2D0b1c67e9A2607427B82bA9AfA32c18E263d',\n",
       "  'spender': '0x1111111254fb6c44bAC0beD2854e76F90643097d',\n",
       "  'value': 115792089237316195423570985008687907853269984665640564039457584007913129639935}),\n",
       " 'event': 'Approval',\n",
       " 'logIndex': 252,\n",
       " 'transactionIndex': 117,\n",
       " 'transactionHash': HexBytes('0xf571bb5b70bfb5c5423b218f520f68f203b9423ec11a426d319818ca36ac169d'),\n",
       " 'address': '0x514910771AF9Ca656af840dff83E8264EcF986CA',\n",
       " 'blockHash': HexBytes('0xd214b3b90973773e4b445c69ee7ab3b0b626a9d6b9f8e3ea307b007592dde172'),\n",
       " 'blockNumber': 14753293})"
      ]
     },
     "execution_count": 36,
     "metadata": {},
     "output_type": "execute_result"
    }
   ],
   "source": [
    "contract.events.Approval().processLog(log_to_process)"
   ]
  },
  {
   "cell_type": "code",
   "execution_count": 38,
   "id": "c18a185b",
   "metadata": {},
   "outputs": [
    {
     "data": {
      "text/plain": [
       "14753271"
      ]
     },
     "execution_count": 38,
     "metadata": {},
     "output_type": "execute_result"
    }
   ],
   "source": [
    "latest_block"
   ]
  },
  {
   "cell_type": "code",
   "execution_count": 47,
   "id": "9336213f",
   "metadata": {},
   "outputs": [
    {
     "data": {
      "text/plain": [
       "()"
      ]
     },
     "execution_count": 47,
     "metadata": {},
     "output_type": "execute_result"
    }
   ],
   "source": [
    "contract.events.Approval().getLogs(argument_filters={\"logIndex\":252})"
   ]
  },
  {
   "cell_type": "code",
   "execution_count": 63,
   "id": "15c401bb",
   "metadata": {},
   "outputs": [],
   "source": [
    "filtered_single_event = contract.events.Approval.createFilter(fromBlock = 14753200, \n",
    "                                                              toBlock = 14753300,\n",
    "                                                              argument_filters = {\"owner\":\"0x3dB2D0b1c67e9A2607427B82bA9AfA32c18E263d\"})"
   ]
  },
  {
   "cell_type": "code",
   "execution_count": 64,
   "id": "062b2f5f",
   "metadata": {},
   "outputs": [
    {
     "data": {
      "text/plain": [
       "[AttributeDict({'args': AttributeDict({'owner': '0x3dB2D0b1c67e9A2607427B82bA9AfA32c18E263d',\n",
       "   'spender': '0x1111111254fb6c44bAC0beD2854e76F90643097d',\n",
       "   'value': 115792089237316195423570985008687907853269984665640564039457584007913129639935}),\n",
       "  'event': 'Approval',\n",
       "  'logIndex': 252,\n",
       "  'transactionIndex': 117,\n",
       "  'transactionHash': HexBytes('0xf571bb5b70bfb5c5423b218f520f68f203b9423ec11a426d319818ca36ac169d'),\n",
       "  'address': '0x514910771AF9Ca656af840dff83E8264EcF986CA',\n",
       "  'blockHash': HexBytes('0xd214b3b90973773e4b445c69ee7ab3b0b626a9d6b9f8e3ea307b007592dde172'),\n",
       "  'blockNumber': 14753293})]"
      ]
     },
     "execution_count": 64,
     "metadata": {},
     "output_type": "execute_result"
    }
   ],
   "source": [
    "filtered_single_event.get_all_entries()"
   ]
  },
  {
   "cell_type": "code",
   "execution_count": null,
   "id": "84d290dd",
   "metadata": {},
   "outputs": [],
   "source": []
  }
 ],
 "metadata": {
  "interpreter": {
   "hash": "9a718bed0edfc258ce60dbfb99389084d3bfc181883a438110628b63938dcec8"
  },
  "kernelspec": {
   "display_name": "Python 3",
   "language": "python",
   "name": "python3"
  },
  "language_info": {
   "codemirror_mode": {
    "name": "ipython",
    "version": 3
   },
   "file_extension": ".py",
   "mimetype": "text/x-python",
   "name": "python",
   "nbconvert_exporter": "python",
   "pygments_lexer": "ipython3",
   "version": "3.6.13"
  }
 },
 "nbformat": 4,
 "nbformat_minor": 5
}
